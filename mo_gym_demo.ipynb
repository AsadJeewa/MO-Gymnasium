{
  "cells": [
    {
      "cell_type": "markdown",
      "metadata": {
        "id": "view-in-github",
        "colab_type": "text"
      },
      "source": [
        "<a href=\"https://colab.research.google.com/github/LucasAlegre/mo-gym/blob/main/mo_gym_demo.ipynb\" target=\"_parent\"><img src=\"https://colab.research.google.com/assets/colab-badge.svg\" alt=\"Open In Colab\"/></a>"
      ]
    },
    {
      "cell_type": "markdown",
      "id": "ab7f2ffc",
      "metadata": {
        "id": "ab7f2ffc"
      },
      "source": [
        "## Step 1: install and import the libraries"
      ]
    },
    {
      "cell_type": "code",
      "source": [
        "!git clone https://github.com/LucasAlegre/mo-gym\n",
        "!pip install -e mo-gym"
      ],
      "metadata": {
        "colab": {
          "base_uri": "https://localhost:8080/"
        },
        "id": "o8lMdzzrRf0O",
        "outputId": "b8bb653e-a81f-42b7-e251-40179a2d0d76"
      },
      "id": "o8lMdzzrRf0O",
      "execution_count": 1,
      "outputs": [
        {
          "output_type": "stream",
          "name": "stdout",
          "text": [
            "fatal: destination path 'mo-gym' already exists and is not an empty directory.\n",
            "Looking in indexes: https://pypi.org/simple, https://us-python.pkg.dev/colab-wheels/public/simple/\n",
            "Obtaining file:///content/mo-gym\n",
            "Requirement already satisfied: gym==0.24.1 in /usr/local/lib/python3.7/dist-packages (from mo-gym==0.1.1) (0.24.1)\n",
            "Requirement already satisfied: numpy in /usr/local/lib/python3.7/dist-packages (from mo-gym==0.1.1) (1.21.6)\n",
            "Requirement already satisfied: pygame in /usr/local/lib/python3.7/dist-packages (from mo-gym==0.1.1) (2.1.2)\n",
            "Requirement already satisfied: scipy in /usr/local/lib/python3.7/dist-packages (from mo-gym==0.1.1) (1.7.3)\n",
            "Requirement already satisfied: pymoo in /usr/local/lib/python3.7/dist-packages (from mo-gym==0.1.1) (0.6.0)\n",
            "Requirement already satisfied: gym-notices>=0.0.4 in /usr/local/lib/python3.7/dist-packages (from gym==0.24.1->mo-gym==0.1.1) (0.0.8)\n",
            "Requirement already satisfied: importlib-metadata>=4.8.0 in /usr/local/lib/python3.7/dist-packages (from gym==0.24.1->mo-gym==0.1.1) (4.12.0)\n",
            "Requirement already satisfied: cloudpickle>=1.2.0 in /usr/local/lib/python3.7/dist-packages (from gym==0.24.1->mo-gym==0.1.1) (1.5.0)\n",
            "Requirement already satisfied: zipp>=0.5 in /usr/local/lib/python3.7/dist-packages (from importlib-metadata>=4.8.0->gym==0.24.1->mo-gym==0.1.1) (3.8.1)\n",
            "Requirement already satisfied: typing-extensions>=3.6.4 in /usr/local/lib/python3.7/dist-packages (from importlib-metadata>=4.8.0->gym==0.24.1->mo-gym==0.1.1) (4.1.1)\n",
            "Requirement already satisfied: alive-progress in /usr/local/lib/python3.7/dist-packages (from pymoo->mo-gym==0.1.1) (2.4.1)\n",
            "Requirement already satisfied: matplotlib>=3 in /usr/local/lib/python3.7/dist-packages (from pymoo->mo-gym==0.1.1) (3.2.2)\n",
            "Requirement already satisfied: dill in /usr/local/lib/python3.7/dist-packages (from pymoo->mo-gym==0.1.1) (0.3.5.1)\n",
            "Requirement already satisfied: autograd>=1.4 in /usr/local/lib/python3.7/dist-packages (from pymoo->mo-gym==0.1.1) (1.4)\n",
            "Requirement already satisfied: Deprecated in /usr/local/lib/python3.7/dist-packages (from pymoo->mo-gym==0.1.1) (1.2.13)\n",
            "Requirement already satisfied: cma==3.2.2 in /usr/local/lib/python3.7/dist-packages (from pymoo->mo-gym==0.1.1) (3.2.2)\n",
            "Requirement already satisfied: future>=0.15.2 in /usr/local/lib/python3.7/dist-packages (from autograd>=1.4->pymoo->mo-gym==0.1.1) (0.16.0)\n",
            "Requirement already satisfied: cycler>=0.10 in /usr/local/lib/python3.7/dist-packages (from matplotlib>=3->pymoo->mo-gym==0.1.1) (0.11.0)\n",
            "Requirement already satisfied: pyparsing!=2.0.4,!=2.1.2,!=2.1.6,>=2.0.1 in /usr/local/lib/python3.7/dist-packages (from matplotlib>=3->pymoo->mo-gym==0.1.1) (3.0.9)\n",
            "Requirement already satisfied: python-dateutil>=2.1 in /usr/local/lib/python3.7/dist-packages (from matplotlib>=3->pymoo->mo-gym==0.1.1) (2.8.2)\n",
            "Requirement already satisfied: kiwisolver>=1.0.1 in /usr/local/lib/python3.7/dist-packages (from matplotlib>=3->pymoo->mo-gym==0.1.1) (1.4.4)\n",
            "Requirement already satisfied: six>=1.5 in /usr/local/lib/python3.7/dist-packages (from python-dateutil>=2.1->matplotlib>=3->pymoo->mo-gym==0.1.1) (1.15.0)\n",
            "Requirement already satisfied: about-time==3.1.1 in /usr/local/lib/python3.7/dist-packages (from alive-progress->pymoo->mo-gym==0.1.1) (3.1.1)\n",
            "Requirement already satisfied: grapheme==0.6.0 in /usr/local/lib/python3.7/dist-packages (from alive-progress->pymoo->mo-gym==0.1.1) (0.6.0)\n",
            "Requirement already satisfied: wrapt<2,>=1.10 in /usr/local/lib/python3.7/dist-packages (from Deprecated->pymoo->mo-gym==0.1.1) (1.14.1)\n",
            "Installing collected packages: mo-gym\n",
            "  Attempting uninstall: mo-gym\n",
            "    Found existing installation: mo-gym 0.1.1\n",
            "    Can't uninstall 'mo-gym'. No files were found to uninstall.\n",
            "  Running setup.py develop for mo-gym\n",
            "Successfully installed mo-gym-0.1.1\n"
          ]
        }
      ]
    },
    {
      "cell_type": "code",
      "execution_count": 3,
      "id": "846b9364",
      "metadata": {
        "id": "846b9364"
      },
      "outputs": [],
      "source": [
        "import gym\n",
        "import mo_gym"
      ]
    },
    {
      "cell_type": "markdown",
      "id": "f4fef046",
      "metadata": {
        "id": "f4fef046"
      },
      "source": [
        "## Step 2: create an environment"
      ]
    },
    {
      "cell_type": "code",
      "execution_count": 10,
      "id": "d5415397",
      "metadata": {
        "id": "d5415397"
      },
      "outputs": [],
      "source": [
        "env = mo_gym.make(\"deep-sea-treasure-v0\")"
      ]
    },
    {
      "cell_type": "markdown",
      "id": "870ae1a4",
      "metadata": {
        "id": "870ae1a4"
      },
      "source": [
        "## Step 3: extract environment information"
      ]
    },
    {
      "cell_type": "code",
      "execution_count": 4,
      "id": "8db784fa",
      "metadata": {
        "colab": {
          "base_uri": "https://localhost:8080/"
        },
        "id": "8db784fa",
        "outputId": "dd097381-1f1b-48c3-8be2-f284aa9f493e"
      },
      "outputs": [
        {
          "output_type": "execute_result",
          "data": {
            "text/plain": [
              "Box(0.0, 1.0, (7,), float32)"
            ]
          },
          "metadata": {},
          "execution_count": 4
        }
      ],
      "source": [
        "env.observation_space"
      ]
    },
    {
      "cell_type": "code",
      "execution_count": 5,
      "id": "8e8d91c7",
      "metadata": {
        "colab": {
          "base_uri": "https://localhost:8080/"
        },
        "id": "8e8d91c7",
        "outputId": "3c51452a-8713-4599-9064-72fff4faca85"
      },
      "outputs": [
        {
          "output_type": "execute_result",
          "data": {
            "text/plain": [
              "Discrete(6)"
            ]
          },
          "metadata": {},
          "execution_count": 5
        }
      ],
      "source": [
        "env.action_space"
      ]
    },
    {
      "cell_type": "code",
      "execution_count": 6,
      "id": "5bff02b6",
      "metadata": {
        "colab": {
          "base_uri": "https://localhost:8080/"
        },
        "id": "5bff02b6",
        "outputId": "fe8ee38e-ff94-4ad2-9d9c-e2cc58d89159"
      },
      "outputs": [
        {
          "output_type": "execute_result",
          "data": {
            "text/plain": [
              "Box(-1.0, 1.5, (3,), float32)"
            ]
          },
          "metadata": {},
          "execution_count": 6
        }
      ],
      "source": [
        "env.reward_space"
      ]
    },
    {
      "cell_type": "markdown",
      "id": "f01faaa2",
      "metadata": {
        "id": "f01faaa2"
      },
      "source": [
        "## Step 4: use Gym features in MO-Gym"
      ]
    },
    {
      "cell_type": "code",
      "execution_count": 7,
      "id": "c64e5417",
      "metadata": {
        "id": "c64e5417"
      },
      "outputs": [],
      "source": [
        "from gym.wrappers.record_video import RecordVideo"
      ]
    },
    {
      "cell_type": "code",
      "execution_count": 8,
      "id": "a4190496",
      "metadata": {
        "colab": {
          "base_uri": "https://localhost:8080/"
        },
        "id": "a4190496",
        "outputId": "7739e628-5ef1-4086-98df-33ff30af0a29"
      },
      "outputs": [
        {
          "output_type": "stream",
          "name": "stderr",
          "text": [
            "/usr/local/lib/python3.7/dist-packages/gym/wrappers/record_video.py:76: UserWarning: \u001b[33mWARN: Overwriting existing videos at /content/videos/demo folder (try specifying a different `video_folder` for the `RecordVideo` wrapper if this is not desired)\u001b[0m\n",
            "  f\"Overwriting existing videos at {self.video_folder} folder \"\n"
          ]
        }
      ],
      "source": [
        "env = RecordVideo(env, \"videos/demo\", episode_trigger=lambda e: True)"
      ]
    },
    {
      "cell_type": "markdown",
      "id": "dbde25c4",
      "metadata": {
        "id": "dbde25c4"
      },
      "source": [
        "## Step 5: go through the environment with a random agent"
      ]
    },
    {
      "cell_type": "code",
      "execution_count": 11,
      "id": "066db701",
      "metadata": {
        "id": "066db701"
      },
      "outputs": [],
      "source": [
        "env.reset()\n",
        "done = False\n",
        "\n",
        "while not done:\n",
        "    obs, vec_reward, done, info = env.step(env.action_space.sample())\n",
        "    \n",
        "env.close()"
      ]
    },
    {
      "cell_type": "markdown",
      "source": [
        "## Step 6: scalarize env and run it with stable-baselines3\n",
        "\n"
      ],
      "metadata": {
        "id": "IG7S7nx3cces"
      },
      "id": "IG7S7nx3cces"
    },
    {
      "cell_type": "code",
      "source": [
        "!pip install stable-baselines3"
      ],
      "metadata": {
        "colab": {
          "base_uri": "https://localhost:8080/"
        },
        "id": "DHkO3R7uccOy",
        "outputId": "7dcaa4a2-f566-40e8-f62a-12d4320c3df4"
      },
      "id": "DHkO3R7uccOy",
      "execution_count": 1,
      "outputs": [
        {
          "output_type": "stream",
          "name": "stdout",
          "text": [
            "Looking in indexes: https://pypi.org/simple, https://us-python.pkg.dev/colab-wheels/public/simple/\n",
            "Requirement already satisfied: stable-baselines3 in /usr/local/lib/python3.7/dist-packages (1.6.0)\n",
            "Requirement already satisfied: pandas in /usr/local/lib/python3.7/dist-packages (from stable-baselines3) (1.3.5)\n",
            "Requirement already satisfied: gym==0.21 in /usr/local/lib/python3.7/dist-packages (from stable-baselines3) (0.21.0)\n",
            "Requirement already satisfied: matplotlib in /usr/local/lib/python3.7/dist-packages (from stable-baselines3) (3.2.2)\n",
            "Requirement already satisfied: numpy in /usr/local/lib/python3.7/dist-packages (from stable-baselines3) (1.21.6)\n",
            "Requirement already satisfied: cloudpickle in /usr/local/lib/python3.7/dist-packages (from stable-baselines3) (1.5.0)\n",
            "Requirement already satisfied: torch>=1.11 in /usr/local/lib/python3.7/dist-packages (from stable-baselines3) (1.12.1+cu113)\n",
            "Requirement already satisfied: importlib-metadata>=4.8.1 in /usr/local/lib/python3.7/dist-packages (from gym==0.21->stable-baselines3) (4.12.0)\n",
            "Requirement already satisfied: typing-extensions>=3.6.4 in /usr/local/lib/python3.7/dist-packages (from importlib-metadata>=4.8.1->gym==0.21->stable-baselines3) (4.1.1)\n",
            "Requirement already satisfied: zipp>=0.5 in /usr/local/lib/python3.7/dist-packages (from importlib-metadata>=4.8.1->gym==0.21->stable-baselines3) (3.8.1)\n",
            "Requirement already satisfied: kiwisolver>=1.0.1 in /usr/local/lib/python3.7/dist-packages (from matplotlib->stable-baselines3) (1.4.4)\n",
            "Requirement already satisfied: pyparsing!=2.0.4,!=2.1.2,!=2.1.6,>=2.0.1 in /usr/local/lib/python3.7/dist-packages (from matplotlib->stable-baselines3) (3.0.9)\n",
            "Requirement already satisfied: cycler>=0.10 in /usr/local/lib/python3.7/dist-packages (from matplotlib->stable-baselines3) (0.11.0)\n",
            "Requirement already satisfied: python-dateutil>=2.1 in /usr/local/lib/python3.7/dist-packages (from matplotlib->stable-baselines3) (2.8.2)\n",
            "Requirement already satisfied: six>=1.5 in /usr/local/lib/python3.7/dist-packages (from python-dateutil>=2.1->matplotlib->stable-baselines3) (1.15.0)\n",
            "Requirement already satisfied: pytz>=2017.3 in /usr/local/lib/python3.7/dist-packages (from pandas->stable-baselines3) (2022.2.1)\n"
          ]
        }
      ]
    },
    {
      "cell_type": "code",
      "source": [
        "import stable_baselines3 as sb3\n",
        "import numpy as np\n",
        "import mo_gym"
      ],
      "metadata": {
        "colab": {
          "base_uri": "https://localhost:8080/"
        },
        "id": "lgPC1qU8c-0A",
        "outputId": "f3b8d2a4-0a91-4005-c0e9-64d9f34f19d3"
      },
      "id": "lgPC1qU8c-0A",
      "execution_count": 1,
      "outputs": [
        {
          "output_type": "stream",
          "name": "stderr",
          "text": [
            "Warning: Gym version v0.24.0 has a number of critical issues with `gym.make` such that the `reset` and `step` functions are called before returning the environment. It is recommend to downgrading to v0.23.1 or upgrading to v0.25.1\n"
          ]
        }
      ]
    },
    {
      "cell_type": "code",
      "source": [
        "!pip install gym==0.24.0"
      ],
      "metadata": {
        "colab": {
          "base_uri": "https://localhost:8080/",
          "height": 592
        },
        "id": "SdkUeJHudZ17",
        "outputId": "9557593d-4893-4c4d-dccb-76fefd73dddd"
      },
      "id": "SdkUeJHudZ17",
      "execution_count": 7,
      "outputs": [
        {
          "output_type": "stream",
          "name": "stdout",
          "text": [
            "Looking in indexes: https://pypi.org/simple, https://us-python.pkg.dev/colab-wheels/public/simple/\n",
            "Collecting gym==0.24.0\n",
            "  Downloading gym-0.24.0.tar.gz (694 kB)\n",
            "\u001b[K     |████████████████████████████████| 694 kB 5.2 MB/s \n",
            "\u001b[?25h  Installing build dependencies ... \u001b[?25l\u001b[?25hdone\n",
            "  Getting requirements to build wheel ... \u001b[?25l\u001b[?25hdone\n",
            "    Preparing wheel metadata ... \u001b[?25l\u001b[?25hdone\n",
            "Requirement already satisfied: cloudpickle>=1.2.0 in /usr/local/lib/python3.7/dist-packages (from gym==0.24.0) (1.5.0)\n",
            "Requirement already satisfied: importlib-metadata>=4.8.0 in /usr/local/lib/python3.7/dist-packages (from gym==0.24.0) (4.12.0)\n",
            "Requirement already satisfied: numpy>=1.18.0 in /usr/local/lib/python3.7/dist-packages (from gym==0.24.0) (1.21.6)\n",
            "Requirement already satisfied: gym-notices>=0.0.4 in /usr/local/lib/python3.7/dist-packages (from gym==0.24.0) (0.0.8)\n",
            "Requirement already satisfied: typing-extensions>=3.6.4 in /usr/local/lib/python3.7/dist-packages (from importlib-metadata>=4.8.0->gym==0.24.0) (4.1.1)\n",
            "Requirement already satisfied: zipp>=0.5 in /usr/local/lib/python3.7/dist-packages (from importlib-metadata>=4.8.0->gym==0.24.0) (3.8.1)\n",
            "Building wheels for collected packages: gym\n",
            "  Building wheel for gym (PEP 517) ... \u001b[?25l\u001b[?25hdone\n",
            "  Created wheel for gym: filename=gym-0.24.0-py3-none-any.whl size=790708 sha256=3500b83d26d94dd2f388acf1fc0b2eab1bd2575c80dd0d9f403254247a6ffb8d\n",
            "  Stored in directory: /root/.cache/pip/wheels/68/7a/27/ac44ac6e4763637d0ed8d89f686465960f9837440ee880abe6\n",
            "Successfully built gym\n",
            "Installing collected packages: gym\n",
            "  Attempting uninstall: gym\n",
            "    Found existing installation: gym 0.21.0\n",
            "    Uninstalling gym-0.21.0:\n",
            "      Successfully uninstalled gym-0.21.0\n",
            "\u001b[31mERROR: pip's dependency resolver does not currently take into account all the packages that are installed. This behaviour is the source of the following dependency conflicts.\n",
            "stable-baselines3 1.6.0 requires gym==0.21, but you have gym 0.24.0 which is incompatible.\n",
            "mo-gym 0.1.1 requires gym==0.24.1, but you have gym 0.24.0 which is incompatible.\u001b[0m\n",
            "Successfully installed gym-0.24.0\n"
          ]
        },
        {
          "output_type": "display_data",
          "data": {
            "application/vnd.colab-display-data+json": {
              "pip_warning": {
                "packages": [
                  "gym"
                ]
              }
            }
          },
          "metadata": {}
        }
      ]
    },
    {
      "cell_type": "code",
      "source": [
        "# Linear scalarizes the environment\n",
        "env = mo_gym.LinearReward(mo_gym.make(\"mo-mountaincar-v0\"), weight=np.array([0.9, 0.1, 0.0]))\n",
        "\n",
        "# Run DQN agent!\n",
        "agent = sb3.DQN(\"MlpPolicy\", env)\n",
        "agent.learn(10000)"
      ],
      "metadata": {
        "colab": {
          "base_uri": "https://localhost:8080/"
        },
        "id": "mn7dMweScz1U",
        "outputId": "fe80d623-a46d-4d9e-bd27-75188c12aa19"
      },
      "id": "mn7dMweScz1U",
      "execution_count": 10,
      "outputs": [
        {
          "output_type": "execute_result",
          "data": {
            "text/plain": [
              "<stable_baselines3.dqn.dqn.DQN at 0x7f0b4c95b810>"
            ]
          },
          "metadata": {},
          "execution_count": 10
        }
      ]
    }
  ],
  "metadata": {
    "kernelspec": {
      "display_name": "Python 3",
      "language": "python",
      "name": "python3"
    },
    "language_info": {
      "codemirror_mode": {
        "name": "ipython",
        "version": 3
      },
      "file_extension": ".py",
      "mimetype": "text/x-python",
      "name": "python",
      "nbconvert_exporter": "python",
      "pygments_lexer": "ipython3",
      "version": "3.9.13"
    },
    "vscode": {
      "interpreter": {
        "hash": "ac2eaa0ea0ebeafcc7822e65e46aa9d4f966f30b695406963e145ea4a91cd4fc"
      }
    },
    "colab": {
      "name": "mo-gym-demo.ipynb",
      "provenance": [],
      "include_colab_link": true
    }
  },
  "nbformat": 4,
  "nbformat_minor": 5
}